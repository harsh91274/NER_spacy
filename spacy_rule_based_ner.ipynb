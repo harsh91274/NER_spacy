{
 "cells": [
  {
   "cell_type": "code",
   "execution_count": 56,
   "metadata": {},
   "outputs": [],
   "source": [
    "import spacy\n",
    "from spacy.lang.en import English\n",
    "from spacy.pipeline import EntityRuler\n",
    "import json"
   ]
  },
  {
   "cell_type": "code",
   "execution_count": 57,
   "metadata": {},
   "outputs": [],
   "source": [
    "def load_data(file):\n",
    "    with open(file, \"r\", encoding=\"utf-8\") as f:\n",
    "        data=json.load(f)\n",
    "    return data"
   ]
  },
  {
   "cell_type": "code",
   "execution_count": 58,
   "metadata": {},
   "outputs": [
    {
     "name": "stdout",
     "output_type": "stream",
     "text": [
      "['Hannah Abbott', 'Ludo Bagman', 'Bathilda Bagshot', 'Katie Bell', 'Cuthbert Binns', 'Phineas Nigellus Black', 'Sirius Black', 'Walburga Black', 'Amelia Bones', 'Susan Bones', 'Terry Boot', 'Lavender Brown', 'Millicent Bulstrode', 'Charity Burbage', 'Frank Bryce', 'Alecto Carrow', 'Amycus Carrow', 'Reginald Cattermole', 'Mary Cattermole', 'Cho Chang', 'Penelope Clearwater', 'Mrs. Cole', 'Michael Corner', 'Crabbe', 'Vincent Crabbe', 'Colin Creevey', 'Dennis Creevey', 'Dirk Cresswell', 'Barty Crouch Sr', 'Barty Crouch Jr', 'Roger Davies', 'John Dawlish', 'Fleur Delacour', 'Gabrielle Delacour', 'Dedalus Diggle', 'Amos Diggory', 'Cedric Diggory', 'Elphias Doge', 'Antonin Dolohov', 'Aberforth Dumbledore', 'Albus Dumbledore', 'Ariana Dumbledore', 'Kendra Dumbledore', 'Percival Dumbledore', 'Dudley Dursley', 'Marge Dursley', 'Petunia Dursley', 'Vernon Dursley', 'Marietta Edgecombe', 'Arabella Figg', 'Argus Filch', 'Justin Finch-Fletchley', 'Seamus Finnigan', 'Marcus Flint', 'Mundungus Fletcher', 'Filius Flitwick', 'Florean Fortescue', 'Cornelius Fudge', 'Marvolo Gaunt', 'Merope Gaunt', 'Morfin Gaunt', 'Anthony Goldstein', 'Goyle', 'Gregory Goyle', 'Hermione Granger', 'Gregorovitch', 'Fenrir Greyback', 'Gellert Grindelwald', 'Wilhelmina Grubbly-Plank', 'Rubeus Hagrid', 'Rolanda Hooch', 'Mafalda Hopkirk', 'Angelina Johnson', 'Lee Jordan', 'Igor Karkaroff', 'Viktor Krum', 'Silvanus Kettleburn', 'Bellatrix Lestrange', 'Rabastan Lestrange', 'Rodolphus Lestrange', 'Gilderoy Lockhart', 'Alice Longbottom', 'Frank Longbottom', 'Augusta Longbottom', 'Neville Longbottom', 'Luna Lovegood', 'Xenophilius Lovegood', 'Remus Lupin', 'Teddy Lupin', 'Walden Macnair', 'Draco Malfoy', 'Lucius Malfoy', 'Narcissa Malfoy', 'Scorpius Malfoy', 'Madam Malkin', 'Griselda Marchbanks', 'Olympe Maxime', 'Ernie Macmillan', 'Minerva McGonagall', 'Cormac McLaggen', 'Graham Montague', 'Alastor (Mad-Eye) Moody', 'Theodore Nott', 'Bob Ogden', 'Garrick Ollivander', 'Pansy Parkinson', 'Padma Patil', 'Parvati Patil', 'Peter Pettigrew', 'Antioch, Cadmus, and Ignotus Peverell', 'Irma Pince', 'Sturgis Podmore', 'Poppy Pomfrey', 'Harry Potter', 'James Potter', 'Lily Potter', 'Albus Severus Potter', 'James Sirius Potter', 'Lily Luna Potter', 'Quirinus Quirrell', 'Helena Ravenclaw', 'The Grey Lady', 'Rowena Ravenclaw', 'Mary Riddle', 'Thomas Riddle Sr.', 'Thomas Riddle Jr.', 'Thomas Marvolo Riddle', 'Demelza Robins', 'Augustus Rookwood', 'Thorfinn Rowle', 'Albert Runcorn', 'Newt Scamander', 'Rufus Scrimgeour', 'Kingsley Shacklebolt', 'Stan Shunpike', 'Aurora Sinistra', 'Rita Skeeter', 'Horace Slughorn', 'Salazar Slytherin', 'Zacharias Smith', 'Severus Snape', 'Alicia Spinnet', 'Pomona Sprout', 'Pius Thicknesse', 'Dean Thomas', 'Andromeda Tonks', 'Nymphadora Tonks', 'Ted Tonks', 'Sybill Trelawney', 'Wilkie Twycross', 'Dolores Umbridge', 'Emmeline Vance', 'Romilda Vane', 'Septima Vector', 'Lord Voldemort (Tom Marvolo Riddle)', 'Myrtle Warren', 'Moaning Myrtle', 'Arthur Weasley', 'Bill Weasley', 'Charlie Weasley', 'Fred Weasley', 'George Weasley', 'Ginny Weasley', 'Hugo Weasley', 'Molly Weasley', 'Percy Weasley', 'Ron Weasley', 'Ronald Weasley', 'Oliver Wood', 'Rose Weasley', 'Corban Yaxley', 'Blaise Zabini', 'Aragog', 'Bane', 'Beedle the Bard', 'The Bloody Baron', 'Bogrod', 'Buckbeak', 'Sir Cadogan', 'Crookshanks', 'Dobby', 'Errol', 'Fang', 'The Fat Friar', 'The Fat Lady', 'Fawkes', 'Firenze', 'Fluffy', 'Gornuk', 'Grawp', 'Griphook', 'Hedwig', 'Hokey', 'Kreacher', 'Magorian', 'Great Aunt Muriel', 'Nagini', 'Nearly Headless Nick', 'Norbert', 'Peeves', 'Pigwidgeon', 'Madam Rosmerta', 'Ronan', 'Scabbers', 'Scabior', 'Travers', 'Trevor', 'Winky']\n"
     ]
    }
   ],
   "source": [
    "hp_chars=load_data(\"hp_characters.json\")\n",
    "print(hp_chars)"
   ]
  },
  {
   "cell_type": "code",
   "execution_count": 59,
   "metadata": {},
   "outputs": [],
   "source": [
    "def generate_better_characters(file):\n",
    "    data=load_data(file)\n",
    "    print(len(data))\n",
    "    new_characters=[]\n",
    "    for item in data:\n",
    "        new_characters.append(item)\n",
    "\n",
    "    for item in data:\n",
    "        item=item.replace(\"The\", \"\").replace(\"the\",\"\").replace(\"and\",\"\").replace(\"And\",\"\")\n",
    "        names=item.split(\" \")\n",
    "\n",
    "        for name in names:\n",
    "            name.strip()\n",
    "            #print(name)\n",
    "            new_characters.append(name)\n",
    "        \n",
    "        if \"(\" in item:\n",
    "            names=item.split(\"(\")\n",
    "            for name in names:\n",
    "                name=name.replace(\")\",\"\").strip()\n",
    "                new_characters.append(name)\n",
    "        \n",
    "        if \",\" in item:\n",
    "            names=item.split(\",\")\n",
    "            for name in names:\n",
    "                name=name.replace(\"and\",\"\").strip()\n",
    "                #new_characters.append(name)\n",
    "            \n",
    "                if \" \" in name:\n",
    "                    new_names=name.split()\n",
    "                    for x in new_names:\n",
    "                        x=x.strip()\n",
    "                        new_characters.append(x)\n",
    "                \n",
    "                new_characters.append(name)\n",
    "\n",
    "\n",
    "    final_characters= []\n",
    "    titles=[\"Dr.\", \"Professor\", \"Mr.\",\"Mrs.\", \"Ms.\", \"Miss\", \"Aunt\", \"Uncle\", \"Mr. and Mrs.\"]\n",
    "    for character in new_characters:\n",
    "        if \"\"!=character:\n",
    "            final_characters.append(character)\n",
    "            for title in titles:\n",
    "                titled_char=f\"{title} {character}\"\n",
    "                final_characters.append(titled_char)\n",
    "    \n",
    "\n",
    "    final_characters=list(set(final_characters))\n",
    "\n",
    "    print(len(final_characters))\n",
    "\n",
    "    return final_characters\n"
   ]
  },
  {
   "cell_type": "code",
   "execution_count": 60,
   "metadata": {},
   "outputs": [
    {
     "name": "stdout",
     "output_type": "stream",
     "text": [
      "208\n",
      "5139\n"
     ]
    }
   ],
   "source": [
    "characters=generate_better_characters(\"hp_characters.json\")    "
   ]
  },
  {
   "cell_type": "code",
   "execution_count": 61,
   "metadata": {},
   "outputs": [
    {
     "name": "stdout",
     "output_type": "stream",
     "text": [
      "208\n",
      "5139\n"
     ]
    }
   ],
   "source": [
    "def create_training_data(file, type):\n",
    "    data=generate_better_characters(file)\n",
    "    patterns=[]\n",
    "    for item in data:\n",
    "        pattern = {\"label\":type, \"pattern\": item}\n",
    "        patterns.append(pattern)\n",
    "    return (patterns)\n",
    "\n",
    "patterns=create_training_data(\"hp_characters.json\",\"PERSON\")\n"
   ]
  },
  {
   "cell_type": "code",
   "execution_count": 62,
   "metadata": {},
   "outputs": [],
   "source": [
    "def generate_rules(patterns):\n",
    "    nlp=English()\n",
    "    ruler=nlp.add_pipe(\"entity_ruler\")\n",
    "    ruler.add_patterns(patterns)\n",
    "    #ruler=EntityRuler(nlp)\n",
    "    #ruler.add_patterns(patterns)\n",
    "    #nlp.add_pipe(ruler)\n",
    "    nlp.to_disk(\"hp_ner\")\n",
    "\n",
    "generate_rules(patterns)"
   ]
  },
  {
   "cell_type": "code",
   "execution_count": 63,
   "metadata": {},
   "outputs": [],
   "source": [
    "def test_model(model, text):\n",
    "    doc=nlp(text)\n",
    "    results=[]\n",
    "    for ent in doc.ents:\n",
    "        results.append(ent.text)\n",
    "    return results"
   ]
  },
  {
   "cell_type": "code",
   "execution_count": 64,
   "metadata": {},
   "outputs": [],
   "source": [
    "nlp = spacy.load(\"hp_ner\")"
   ]
  },
  {
   "cell_type": "code",
   "execution_count": 65,
   "metadata": {},
   "outputs": [],
   "source": [
    "def save_data(file, data):\n",
    "    with open(file, \"w\", encoding=\"utf=8\") as f:\n",
    "        json.dump(data, f, indent=4)"
   ]
  },
  {
   "cell_type": "code",
   "execution_count": 66,
   "metadata": {},
   "outputs": [],
   "source": [
    "ie_data={}\n",
    "with open (\"J. K. Rowling - Harry Potter 1 - Sorcerer's Stone.txt\", \"r\")as f:\n",
    "    text = f.read()\n",
    "\n",
    "    chapters = text.split(\"CHAPTER\")[1:]\n",
    "    for chapter in chapters:\n",
    "        chapter_num, chapter_title = chapter.split(\"\\n\\n\")[0:2]\n",
    "        chapter_num = chapter_num.strip()\n",
    "        segments = chapter.split(\"\\n\\n\")[2:]\n",
    "        hits = []\n",
    "        for segment in segments:\n",
    "            segment = segment.strip()\n",
    "            segment = segment.replace(\"\\n\", \" \")\n",
    "            results = test_model(nlp, segment)\n",
    "            for result in results:\n",
    "                hits.append(result)\n",
    "        ie_data[chapter_num] = hits\n",
    "\n",
    "save_data(\"hp_data.json\", ie_data)"
   ]
  },
  {
   "cell_type": "code",
   "execution_count": null,
   "metadata": {},
   "outputs": [],
   "source": []
  }
 ],
 "metadata": {
  "kernelspec": {
   "display_name": "Python 3",
   "language": "python",
   "name": "python3"
  },
  "language_info": {
   "codemirror_mode": {
    "name": "ipython",
    "version": 3
   },
   "file_extension": ".py",
   "mimetype": "text/x-python",
   "name": "python",
   "nbconvert_exporter": "python",
   "pygments_lexer": "ipython3",
   "version": "3.10.11"
  }
 },
 "nbformat": 4,
 "nbformat_minor": 2
}
